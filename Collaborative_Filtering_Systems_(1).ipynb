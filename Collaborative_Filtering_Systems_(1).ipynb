{
  "cells": [
    {
      "cell_type": "code",
      "source": [
        "!pip install scikit-surprise"
      ],
      "metadata": {
        "colab": {
          "base_uri": "https://localhost:8080/"
        },
        "id": "q4pT0NhhAUEy",
        "outputId": "3e4519da-4028-4b1f-f87a-3dbb15f62319"
      },
      "id": "q4pT0NhhAUEy",
      "execution_count": null,
      "outputs": [
        {
          "output_type": "stream",
          "name": "stdout",
          "text": [
            "Collecting scikit-surprise\n",
            "  Downloading scikit-surprise-1.1.1.tar.gz (11.8 MB)\n",
            "\u001b[K     |████████████████████████████████| 11.8 MB 1.4 MB/s \n",
            "\u001b[?25hRequirement already satisfied: joblib>=0.11 in /usr/local/lib/python3.7/dist-packages (from scikit-surprise) (1.1.0)\n",
            "Requirement already satisfied: numpy>=1.11.2 in /usr/local/lib/python3.7/dist-packages (from scikit-surprise) (1.19.5)\n",
            "Requirement already satisfied: scipy>=1.0.0 in /usr/local/lib/python3.7/dist-packages (from scikit-surprise) (1.4.1)\n",
            "Requirement already satisfied: six>=1.10.0 in /usr/local/lib/python3.7/dist-packages (from scikit-surprise) (1.15.0)\n",
            "Building wheels for collected packages: scikit-surprise\n",
            "  Building wheel for scikit-surprise (setup.py) ... \u001b[?25l\u001b[?25hdone\n",
            "  Created wheel for scikit-surprise: filename=scikit_surprise-1.1.1-cp37-cp37m-linux_x86_64.whl size=1623246 sha256=c99fb1de1876dc2597b57efff21f6003949511d0a76f06be2775aff001999142\n",
            "  Stored in directory: /root/.cache/pip/wheels/76/44/74/b498c42be47b2406bd27994e16c5188e337c657025ab400c1c\n",
            "Successfully built scikit-surprise\n",
            "Installing collected packages: scikit-surprise\n",
            "Successfully installed scikit-surprise-1.1.1\n"
          ]
        }
      ]
    },
    {
      "cell_type": "code",
      "execution_count": null,
      "id": "424ae56b",
      "metadata": {
        "id": "424ae56b"
      },
      "outputs": [],
      "source": [
        "import pandas as pd\n",
        "import numpy as np\n",
        "\n",
        "from sklearn.metrics.pairwise import cosine_similarity\n",
        "from scipy.sparse import csr_matrix\n",
        "from scipy.sparse.linalg import svds\n",
        "\n",
        "from surprise import KNNWithMeans, Dataset, accuracy, Reader\n",
        "from surprise.model_selection import train_test_split"
      ]
    },
    {
      "cell_type": "markdown",
      "source": [
        "## Librerías utilizadas:\n",
        "\n",
        "**Pandas:** Es una biblioteca de código abierto de Python que proporciona análisis y manipulación de datos en la programación en Python. Es una biblioteca muy prometedora de representación de datos, filtrado y programación estadística. La pieza más importante en pandas es el DataFrame donde almacena y juega con los datos y es lo que usamos para cargar nuesto dataset con el nombre data.csv. (Ebrahim, 2019).\n",
        "\n",
        "**Numpy:** Es el paquete más básico pero poderoso para la computación científica y la manipulación de datos en Python. Nos permite trabajar con matrices y matrices multidimensionales. (Samaniego, 2021).\n",
        "\n",
        "**Cosine similarity de Sklearn.metrics.pairwise:** Calcula la similitud como el producto de punto normalizado de X e Y. En los datos normalizados L2, esta función es equivalente a linear_kernel. (PyShark, 2021).\n",
        "\n",
        "**CSR matrix:** se utiliza para crear una matriz dispersa de formato de fila dispersa compressed, mientras que csc_matrix() se utiliza para crear una matriz dispersa de compressed sparse formato de columna dispersa (GeeksforGeeks, 2020b).\n",
        "\n",
        "**Svds:** Calcule los valores/vectores singulares k más grandes o más pequeños para una matriz dispersa. El orden de los valores singulares no está garantizado. (ScipyOrg, 2021).\n",
        "\n",
        "**surprise:** El filtrado colaborativo es una técnica potente que ayuda a que obtengamos mejores resultados de parte de los sistemas de recomendación. Poseen un funcionamiento regido por algoritmos matemáticos que clasifican la información, la estudia y genera sugerencias ajustadas a las necesidades del usuario. (Orlando. P, 2019)."
      ],
      "metadata": {
        "id": "2__XtBOahUBI"
      },
      "id": "2__XtBOahUBI"
    },
    {
      "cell_type": "code",
      "execution_count": null,
      "id": "65eb05b2",
      "metadata": {
        "id": "65eb05b2"
      },
      "outputs": [],
      "source": [
        "# Constante\n",
        "PATH = 'data.csv'"
      ]
    },
    {
      "cell_type": "markdown",
      "id": "ba767811",
      "metadata": {
        "id": "ba767811"
      },
      "source": [
        "# Import Data"
      ]
    },
    {
      "cell_type": "code",
      "execution_count": null,
      "id": "d1a05ffb",
      "metadata": {
        "colab": {
          "base_uri": "https://localhost:8080/"
        },
        "id": "d1a05ffb",
        "outputId": "43013348-2f48-4094-9ff6-3c31178de354"
      },
      "outputs": [
        {
          "output_type": "execute_result",
          "data": {
            "text/plain": [
              "(100000, 10)"
            ]
          },
          "metadata": {},
          "execution_count": 6
        }
      ],
      "source": [
        "df = pd.read_csv(PATH)\n",
        "df.shape"
      ]
    },
    {
      "cell_type": "code",
      "execution_count": null,
      "id": "5aaf9ee7",
      "metadata": {
        "colab": {
          "base_uri": "https://localhost:8080/",
          "height": 206
        },
        "id": "5aaf9ee7",
        "outputId": "10d4982f-8983-4967-d9e4-3cb377075656"
      },
      "outputs": [
        {
          "output_type": "execute_result",
          "data": {
            "text/html": [
              "\n",
              "  <div id=\"df-225f55e9-c013-468f-a01b-5932830908cc\">\n",
              "    <div class=\"colab-df-container\">\n",
              "      <div>\n",
              "<style scoped>\n",
              "    .dataframe tbody tr th:only-of-type {\n",
              "        vertical-align: middle;\n",
              "    }\n",
              "\n",
              "    .dataframe tbody tr th {\n",
              "        vertical-align: top;\n",
              "    }\n",
              "\n",
              "    .dataframe thead th {\n",
              "        text-align: right;\n",
              "    }\n",
              "</style>\n",
              "<table border=\"1\" class=\"dataframe\">\n",
              "  <thead>\n",
              "    <tr style=\"text-align: right;\">\n",
              "      <th></th>\n",
              "      <th>book_id</th>\n",
              "      <th>author_id</th>\n",
              "      <th>book_genre</th>\n",
              "      <th>reader_id</th>\n",
              "      <th>num_pages</th>\n",
              "      <th>book_rating</th>\n",
              "      <th>publisher_id</th>\n",
              "      <th>publish_year</th>\n",
              "      <th>book_price</th>\n",
              "      <th>text_lang</th>\n",
              "    </tr>\n",
              "  </thead>\n",
              "  <tbody>\n",
              "    <tr>\n",
              "      <th>0</th>\n",
              "      <td>655</td>\n",
              "      <td>52</td>\n",
              "      <td>4</td>\n",
              "      <td>11482</td>\n",
              "      <td>300</td>\n",
              "      <td>4</td>\n",
              "      <td>8</td>\n",
              "      <td>2012</td>\n",
              "      <td>94</td>\n",
              "      <td>7</td>\n",
              "    </tr>\n",
              "    <tr>\n",
              "      <th>1</th>\n",
              "      <td>2713</td>\n",
              "      <td>90</td>\n",
              "      <td>3</td>\n",
              "      <td>6479</td>\n",
              "      <td>469</td>\n",
              "      <td>1</td>\n",
              "      <td>8</td>\n",
              "      <td>2012</td>\n",
              "      <td>33</td>\n",
              "      <td>5</td>\n",
              "    </tr>\n",
              "    <tr>\n",
              "      <th>2</th>\n",
              "      <td>409</td>\n",
              "      <td>17</td>\n",
              "      <td>2</td>\n",
              "      <td>25472</td>\n",
              "      <td>435</td>\n",
              "      <td>1</td>\n",
              "      <td>12</td>\n",
              "      <td>2001</td>\n",
              "      <td>196</td>\n",
              "      <td>4</td>\n",
              "    </tr>\n",
              "    <tr>\n",
              "      <th>3</th>\n",
              "      <td>1150</td>\n",
              "      <td>234</td>\n",
              "      <td>10</td>\n",
              "      <td>23950</td>\n",
              "      <td>529</td>\n",
              "      <td>2</td>\n",
              "      <td>23</td>\n",
              "      <td>2019</td>\n",
              "      <td>79</td>\n",
              "      <td>2</td>\n",
              "    </tr>\n",
              "    <tr>\n",
              "      <th>4</th>\n",
              "      <td>2424</td>\n",
              "      <td>390</td>\n",
              "      <td>5</td>\n",
              "      <td>13046</td>\n",
              "      <td>395</td>\n",
              "      <td>2</td>\n",
              "      <td>20</td>\n",
              "      <td>2010</td>\n",
              "      <td>200</td>\n",
              "      <td>4</td>\n",
              "    </tr>\n",
              "  </tbody>\n",
              "</table>\n",
              "</div>\n",
              "      <button class=\"colab-df-convert\" onclick=\"convertToInteractive('df-225f55e9-c013-468f-a01b-5932830908cc')\"\n",
              "              title=\"Convert this dataframe to an interactive table.\"\n",
              "              style=\"display:none;\">\n",
              "        \n",
              "  <svg xmlns=\"http://www.w3.org/2000/svg\" height=\"24px\"viewBox=\"0 0 24 24\"\n",
              "       width=\"24px\">\n",
              "    <path d=\"M0 0h24v24H0V0z\" fill=\"none\"/>\n",
              "    <path d=\"M18.56 5.44l.94 2.06.94-2.06 2.06-.94-2.06-.94-.94-2.06-.94 2.06-2.06.94zm-11 1L8.5 8.5l.94-2.06 2.06-.94-2.06-.94L8.5 2.5l-.94 2.06-2.06.94zm10 10l.94 2.06.94-2.06 2.06-.94-2.06-.94-.94-2.06-.94 2.06-2.06.94z\"/><path d=\"M17.41 7.96l-1.37-1.37c-.4-.4-.92-.59-1.43-.59-.52 0-1.04.2-1.43.59L10.3 9.45l-7.72 7.72c-.78.78-.78 2.05 0 2.83L4 21.41c.39.39.9.59 1.41.59.51 0 1.02-.2 1.41-.59l7.78-7.78 2.81-2.81c.8-.78.8-2.07 0-2.86zM5.41 20L4 18.59l7.72-7.72 1.47 1.35L5.41 20z\"/>\n",
              "  </svg>\n",
              "      </button>\n",
              "      \n",
              "  <style>\n",
              "    .colab-df-container {\n",
              "      display:flex;\n",
              "      flex-wrap:wrap;\n",
              "      gap: 12px;\n",
              "    }\n",
              "\n",
              "    .colab-df-convert {\n",
              "      background-color: #E8F0FE;\n",
              "      border: none;\n",
              "      border-radius: 50%;\n",
              "      cursor: pointer;\n",
              "      display: none;\n",
              "      fill: #1967D2;\n",
              "      height: 32px;\n",
              "      padding: 0 0 0 0;\n",
              "      width: 32px;\n",
              "    }\n",
              "\n",
              "    .colab-df-convert:hover {\n",
              "      background-color: #E2EBFA;\n",
              "      box-shadow: 0px 1px 2px rgba(60, 64, 67, 0.3), 0px 1px 3px 1px rgba(60, 64, 67, 0.15);\n",
              "      fill: #174EA6;\n",
              "    }\n",
              "\n",
              "    [theme=dark] .colab-df-convert {\n",
              "      background-color: #3B4455;\n",
              "      fill: #D2E3FC;\n",
              "    }\n",
              "\n",
              "    [theme=dark] .colab-df-convert:hover {\n",
              "      background-color: #434B5C;\n",
              "      box-shadow: 0px 1px 3px 1px rgba(0, 0, 0, 0.15);\n",
              "      filter: drop-shadow(0px 1px 2px rgba(0, 0, 0, 0.3));\n",
              "      fill: #FFFFFF;\n",
              "    }\n",
              "  </style>\n",
              "\n",
              "      <script>\n",
              "        const buttonEl =\n",
              "          document.querySelector('#df-225f55e9-c013-468f-a01b-5932830908cc button.colab-df-convert');\n",
              "        buttonEl.style.display =\n",
              "          google.colab.kernel.accessAllowed ? 'block' : 'none';\n",
              "\n",
              "        async function convertToInteractive(key) {\n",
              "          const element = document.querySelector('#df-225f55e9-c013-468f-a01b-5932830908cc');\n",
              "          const dataTable =\n",
              "            await google.colab.kernel.invokeFunction('convertToInteractive',\n",
              "                                                     [key], {});\n",
              "          if (!dataTable) return;\n",
              "\n",
              "          const docLinkHtml = 'Like what you see? Visit the ' +\n",
              "            '<a target=\"_blank\" href=https://colab.research.google.com/notebooks/data_table.ipynb>data table notebook</a>'\n",
              "            + ' to learn more about interactive tables.';\n",
              "          element.innerHTML = '';\n",
              "          dataTable['output_type'] = 'display_data';\n",
              "          await google.colab.output.renderOutput(dataTable, element);\n",
              "          const docLink = document.createElement('div');\n",
              "          docLink.innerHTML = docLinkHtml;\n",
              "          element.appendChild(docLink);\n",
              "        }\n",
              "      </script>\n",
              "    </div>\n",
              "  </div>\n",
              "  "
            ],
            "text/plain": [
              "   book_id  author_id  book_genre  ...  publish_year  book_price  text_lang\n",
              "0      655         52           4  ...          2012          94          7\n",
              "1     2713         90           3  ...          2012          33          5\n",
              "2      409         17           2  ...          2001         196          4\n",
              "3     1150        234          10  ...          2019          79          2\n",
              "4     2424        390           5  ...          2010         200          4\n",
              "\n",
              "[5 rows x 10 columns]"
            ]
          },
          "metadata": {},
          "execution_count": 7
        }
      ],
      "source": [
        "df.head()"
      ]
    },
    {
      "cell_type": "markdown",
      "id": "ea984ed9",
      "metadata": {
        "id": "ea984ed9"
      },
      "source": [
        "# Método 1"
      ]
    },
    {
      "cell_type": "code",
      "execution_count": null,
      "id": "e4d30a66",
      "metadata": {
        "id": "e4d30a66"
      },
      "outputs": [],
      "source": [
        "# generar una tabla dinámica con lectores en el índice y libros en la columna y valores siendo las calificaciones\n",
        "\n",
        "pt_df = df.pivot_table(\n",
        "    columns = 'book_id',\n",
        "    index = 'reader_id',\n",
        "    values = 'book_rating'\n",
        ").fillna(0)\n",
        "\n",
        "# Convertir a csr matrix\n",
        "mat = pt_df.values\n",
        "mat = csr_matrix(mat)"
      ]
    },
    {
      "cell_type": "code",
      "execution_count": null,
      "id": "15411d4b",
      "metadata": {
        "id": "15411d4b"
      },
      "outputs": [],
      "source": [
        "def normalize(pred_ratings):\n",
        "  '''\n",
        "  Esta función normalizará la entrada pred_ratings  \n",
        "  parámetros:\n",
        "  pred_ratings (Lista -lista >) : Las calificaciones de predicción \n",
        "  '''\n",
        "  return (pred_ratings - pred_ratings.min()) / (pred_ratings.max() - pred_ratings.min())"
      ]
    },
    {
      "cell_type": "code",
      "execution_count": null,
      "id": "e8568d3f",
      "metadata": {
        "id": "e8568d3f"
      },
      "outputs": [],
      "source": [
        "def generate_prediction_df(mat, pt_df, n_factors):\n",
        "    '''\n",
        "    Esta función calculará la descomposición de un solo valor de la matriz de entrada\n",
        "    dado n_factors. Luego generará y normalizará las predicciones de calificación del usuario.\n",
        "    parámetros:\n",
        "        mat (CSR Matrix) : matriz scipy csr correspondiente a la tabla dinámica (pt_df)\n",
        "        pt_df (DataFrame) : pandas dataframe que es una tabla dinámica\n",
        "        n_factors (Integer) : Número de valores singulares y vectores a calcular. \n",
        "                              Debe ser 1 < = n_factors < min(mat.shape). \n",
        "    '''\n",
        "    if not 1 <= n_factors < min(mat.shape):\n",
        "        raise ValueError(\"Must be 1 <= n_factors < min(mat.shape)\")        \n",
        "    # factorización matricial\n",
        "    u, s, v = svds(mat, k = n_factors)\n",
        "    s = np.diag(s)\n",
        "\n",
        "    # calcular clasificaciones de pred\n",
        "    pred_ratings = np.dot(np.dot(u, s), v) \n",
        "    pred_ratings = normalize(pred_ratings)\n",
        "    \n",
        "    # Convertir a df\n",
        "    pred_df = pd.DataFrame(\n",
        "        pred_ratings,\n",
        "        columns = pt_df.columns,\n",
        "        index = list(pt_df.index)\n",
        "    ).transpose()\n",
        "    return pred_df"
      ]
    },
    {
      "cell_type": "code",
      "execution_count": null,
      "id": "b0f47b08",
      "metadata": {
        "colab": {
          "base_uri": "https://localhost:8080/"
        },
        "id": "b0f47b08",
        "outputId": "37b23093-6e96-4b91-afb5-e19f8a7b0e5b"
      },
      "outputs": [
        {
          "output_type": "stream",
          "name": "stdout",
          "text": [
            "CPU times: user 1.17 s, sys: 1.79 s, total: 2.97 s\n",
            "Wall time: 2.21 s\n"
          ]
        }
      ],
      "source": [
        "%time pred_df = generate_prediction_df(mat, pt_df, 10)"
      ]
    },
    {
      "cell_type": "code",
      "execution_count": null,
      "id": "def9b4ad",
      "metadata": {
        "id": "def9b4ad"
      },
      "outputs": [],
      "source": [
        "def recommend_items(pred_df, usr_id, n_recs):\n",
        "    '''\n",
        "    Dada una usr_id y pred_df esta función recomendará\n",
        "    para el usuario.\n",
        "    \n",
        "    parámetros:\n",
        "        pred_df (DataFrame) : generado a partir de la función 'generate_prediction_df'\n",
        "        usr_id (Integer) : El usuario para el que desea obtener recomendaciones de artículos\n",
        "        n_recs (Integer) : El número de recomendaciones que desea para este usuario\n",
        "    '''\n",
        "    \n",
        "    usr_pred = pred_df[usr_id].sort_values(ascending = False).reset_index().rename(columns = {usr_id : 'sim'})\n",
        "    rec_df = usr_pred.sort_values(by = 'sim', ascending = False).head(n_recs)\n",
        "    return rec_df"
      ]
    },
    {
      "cell_type": "code",
      "execution_count": null,
      "id": "916d3e60",
      "metadata": {
        "colab": {
          "base_uri": "https://localhost:8080/",
          "height": 206
        },
        "id": "916d3e60",
        "outputId": "5ffac487-a51e-40ab-cb3b-33827dafa474"
      },
      "outputs": [
        {
          "output_type": "execute_result",
          "data": {
            "text/html": [
              "\n",
              "  <div id=\"df-88b94464-8ed8-4942-977b-4abd105e4e07\">\n",
              "    <div class=\"colab-df-container\">\n",
              "      <div>\n",
              "<style scoped>\n",
              "    .dataframe tbody tr th:only-of-type {\n",
              "        vertical-align: middle;\n",
              "    }\n",
              "\n",
              "    .dataframe tbody tr th {\n",
              "        vertical-align: top;\n",
              "    }\n",
              "\n",
              "    .dataframe thead th {\n",
              "        text-align: right;\n",
              "    }\n",
              "</style>\n",
              "<table border=\"1\" class=\"dataframe\">\n",
              "  <thead>\n",
              "    <tr style=\"text-align: right;\">\n",
              "      <th></th>\n",
              "      <th>book_id</th>\n",
              "      <th>sim</th>\n",
              "    </tr>\n",
              "  </thead>\n",
              "  <tbody>\n",
              "    <tr>\n",
              "      <th>0</th>\n",
              "      <td>1108</td>\n",
              "      <td>0.143244</td>\n",
              "    </tr>\n",
              "    <tr>\n",
              "      <th>1</th>\n",
              "      <td>1839</td>\n",
              "      <td>0.140945</td>\n",
              "    </tr>\n",
              "    <tr>\n",
              "      <th>2</th>\n",
              "      <td>725</td>\n",
              "      <td>0.140516</td>\n",
              "    </tr>\n",
              "    <tr>\n",
              "      <th>3</th>\n",
              "      <td>1897</td>\n",
              "      <td>0.140497</td>\n",
              "    </tr>\n",
              "    <tr>\n",
              "      <th>4</th>\n",
              "      <td>1341</td>\n",
              "      <td>0.140086</td>\n",
              "    </tr>\n",
              "  </tbody>\n",
              "</table>\n",
              "</div>\n",
              "      <button class=\"colab-df-convert\" onclick=\"convertToInteractive('df-88b94464-8ed8-4942-977b-4abd105e4e07')\"\n",
              "              title=\"Convert this dataframe to an interactive table.\"\n",
              "              style=\"display:none;\">\n",
              "        \n",
              "  <svg xmlns=\"http://www.w3.org/2000/svg\" height=\"24px\"viewBox=\"0 0 24 24\"\n",
              "       width=\"24px\">\n",
              "    <path d=\"M0 0h24v24H0V0z\" fill=\"none\"/>\n",
              "    <path d=\"M18.56 5.44l.94 2.06.94-2.06 2.06-.94-2.06-.94-.94-2.06-.94 2.06-2.06.94zm-11 1L8.5 8.5l.94-2.06 2.06-.94-2.06-.94L8.5 2.5l-.94 2.06-2.06.94zm10 10l.94 2.06.94-2.06 2.06-.94-2.06-.94-.94-2.06-.94 2.06-2.06.94z\"/><path d=\"M17.41 7.96l-1.37-1.37c-.4-.4-.92-.59-1.43-.59-.52 0-1.04.2-1.43.59L10.3 9.45l-7.72 7.72c-.78.78-.78 2.05 0 2.83L4 21.41c.39.39.9.59 1.41.59.51 0 1.02-.2 1.41-.59l7.78-7.78 2.81-2.81c.8-.78.8-2.07 0-2.86zM5.41 20L4 18.59l7.72-7.72 1.47 1.35L5.41 20z\"/>\n",
              "  </svg>\n",
              "      </button>\n",
              "      \n",
              "  <style>\n",
              "    .colab-df-container {\n",
              "      display:flex;\n",
              "      flex-wrap:wrap;\n",
              "      gap: 12px;\n",
              "    }\n",
              "\n",
              "    .colab-df-convert {\n",
              "      background-color: #E8F0FE;\n",
              "      border: none;\n",
              "      border-radius: 50%;\n",
              "      cursor: pointer;\n",
              "      display: none;\n",
              "      fill: #1967D2;\n",
              "      height: 32px;\n",
              "      padding: 0 0 0 0;\n",
              "      width: 32px;\n",
              "    }\n",
              "\n",
              "    .colab-df-convert:hover {\n",
              "      background-color: #E2EBFA;\n",
              "      box-shadow: 0px 1px 2px rgba(60, 64, 67, 0.3), 0px 1px 3px 1px rgba(60, 64, 67, 0.15);\n",
              "      fill: #174EA6;\n",
              "    }\n",
              "\n",
              "    [theme=dark] .colab-df-convert {\n",
              "      background-color: #3B4455;\n",
              "      fill: #D2E3FC;\n",
              "    }\n",
              "\n",
              "    [theme=dark] .colab-df-convert:hover {\n",
              "      background-color: #434B5C;\n",
              "      box-shadow: 0px 1px 3px 1px rgba(0, 0, 0, 0.15);\n",
              "      filter: drop-shadow(0px 1px 2px rgba(0, 0, 0, 0.3));\n",
              "      fill: #FFFFFF;\n",
              "    }\n",
              "  </style>\n",
              "\n",
              "      <script>\n",
              "        const buttonEl =\n",
              "          document.querySelector('#df-88b94464-8ed8-4942-977b-4abd105e4e07 button.colab-df-convert');\n",
              "        buttonEl.style.display =\n",
              "          google.colab.kernel.accessAllowed ? 'block' : 'none';\n",
              "\n",
              "        async function convertToInteractive(key) {\n",
              "          const element = document.querySelector('#df-88b94464-8ed8-4942-977b-4abd105e4e07');\n",
              "          const dataTable =\n",
              "            await google.colab.kernel.invokeFunction('convertToInteractive',\n",
              "                                                     [key], {});\n",
              "          if (!dataTable) return;\n",
              "\n",
              "          const docLinkHtml = 'Like what you see? Visit the ' +\n",
              "            '<a target=\"_blank\" href=https://colab.research.google.com/notebooks/data_table.ipynb>data table notebook</a>'\n",
              "            + ' to learn more about interactive tables.';\n",
              "          element.innerHTML = '';\n",
              "          dataTable['output_type'] = 'display_data';\n",
              "          await google.colab.output.renderOutput(dataTable, element);\n",
              "          const docLink = document.createElement('div');\n",
              "          docLink.innerHTML = docLinkHtml;\n",
              "          element.appendChild(docLink);\n",
              "        }\n",
              "      </script>\n",
              "    </div>\n",
              "  </div>\n",
              "  "
            ],
            "text/plain": [
              "   book_id       sim\n",
              "0     1108  0.143244\n",
              "1     1839  0.140945\n",
              "2      725  0.140516\n",
              "3     1897  0.140497\n",
              "4     1341  0.140086"
            ]
          },
          "metadata": {},
          "execution_count": 16
        }
      ],
      "source": [
        "recommend_items(pred_df, 5, 5)"
      ]
    },
    {
      "cell_type": "markdown",
      "id": "aad562f7",
      "metadata": {
        "id": "aad562f7"
      },
      "source": [
        "# Método 2"
      ]
    },
    {
      "cell_type": "code",
      "execution_count": null,
      "id": "97afdd22",
      "metadata": {
        "id": "97afdd22"
      },
      "outputs": [],
      "source": [
        "pt_df = df.pivot_table(\n",
        "    columns = 'book_id', \n",
        "    index = 'author_id', \n",
        "    values = 'book_rating'\n",
        ").fillna(0)"
      ]
    },
    {
      "cell_type": "code",
      "execution_count": null,
      "id": "9007c257",
      "metadata": {
        "id": "9007c257"
      },
      "outputs": [],
      "source": [
        "def find_similar_readers(pt_df, reader_id, n_recs):\n",
        "    '''\n",
        "    Esta función encontrará lectores similares al usuario especificado reader_id\n",
        "    '''\n",
        "    \n",
        "    # lector separado de interés y todos los demás lectores\n",
        "    reader = pt_df[pt_df.index == reader_id]\n",
        "    other_readers = pt_df[pt_df.index != reader_id]\n",
        "\n",
        "    # obtener similitud del lector actual y todos los demás lectores\n",
        "    sim = cosine_similarity(reader, other_readers)[0].tolist()\n",
        "    idx = other_readers.index.tolist()\n",
        "\n",
        "    # crear un diccionario de similitud para este usuario w.r.t todos los demás usuarios\n",
        "    idx_sim = dict(zip(idx, sim))\n",
        "    idx_sim = sorted(idx_sim.items(), key=lambda x: x[1], reverse=True)\n",
        "\n",
        "    similar_readers = idx_sim[:n_recs]\n",
        "    readers = [rdr[0] for rdr in similar_readers]\n",
        "\n",
        "    return readers"
      ]
    },
    {
      "cell_type": "code",
      "execution_count": null,
      "id": "8e8faeb3",
      "metadata": {
        "colab": {
          "base_uri": "https://localhost:8080/"
        },
        "id": "8e8faeb3",
        "outputId": "7d94c5be-b7ce-4d4f-9039-95319d7d817c"
      },
      "outputs": [
        {
          "output_type": "execute_result",
          "data": {
            "text/plain": [
              "[319, 191, 145, 162, 212]"
            ]
          },
          "metadata": {},
          "execution_count": 19
        }
      ],
      "source": [
        "find_similar_readers(pt_df = pt_df, reader_id = 226, n_recs = 5)"
      ]
    },
    {
      "cell_type": "markdown",
      "id": "59917105",
      "metadata": {
        "id": "59917105"
      },
      "source": [
        "# Método 3"
      ]
    },
    {
      "cell_type": "code",
      "execution_count": null,
      "id": "bf383b1a",
      "metadata": {
        "id": "bf383b1a"
      },
      "outputs": [],
      "source": [
        "rdf = df[['reader_id', 'book_id', 'book_rating']]"
      ]
    },
    {
      "cell_type": "code",
      "execution_count": null,
      "id": "ea370387",
      "metadata": {
        "id": "ea370387"
      },
      "outputs": [],
      "source": [
        "#Leer el dataset\n",
        "reader = Reader(rating_scale=(1, 5))\n",
        "data = Dataset.load_from_df(rdf, reader)"
      ]
    },
    {
      "cell_type": "code",
      "execution_count": null,
      "id": "09286b97",
      "metadata": {
        "id": "09286b97"
      },
      "outputs": [],
      "source": [
        "#Dividir el conjunto de datos\n",
        "trainset, testset = train_test_split(data, test_size=0.3,random_state=10)"
      ]
    },
    {
      "cell_type": "code",
      "execution_count": null,
      "id": "c9b43bf0",
      "metadata": {
        "colab": {
          "base_uri": "https://localhost:8080/"
        },
        "id": "c9b43bf0",
        "outputId": "c2fc4ba1-84bb-4544-ea12-2e5cf81c8edf"
      },
      "outputs": [
        {
          "output_type": "stream",
          "name": "stdout",
          "text": [
            "Estimating biases using als...\n",
            "Computing the pearson_baseline similarity matrix...\n",
            "Done computing similarity matrix.\n"
          ]
        },
        {
          "output_type": "execute_result",
          "data": {
            "text/plain": [
              "<surprise.prediction_algorithms.knns.KNNWithMeans at 0x7f37c188b550>"
            ]
          },
          "metadata": {},
          "execution_count": 24
        }
      ],
      "source": [
        "# Utilice user_based true/false para cambiar entre el filtrado colaborativo basado en usuarios o en elementos\n",
        "algo = KNNWithMeans(k=5, sim_options={'name': 'pearson_baseline', 'user_based': False})\n",
        "algo.fit(trainset)"
      ]
    },
    {
      "cell_type": "code",
      "execution_count": null,
      "id": "f7bdccd0",
      "metadata": {
        "id": "f7bdccd0"
      },
      "outputs": [],
      "source": [
        "# ejecutar el modelo entrenado en el conjunto de pruebas\n",
        "test_pred = algo.test(testset)"
      ]
    },
    {
      "cell_type": "code",
      "execution_count": null,
      "id": "0ae91798",
      "metadata": {
        "colab": {
          "base_uri": "https://localhost:8080/"
        },
        "id": "0ae91798",
        "outputId": "66ad8a5f-f542-4d70-d81a-da3981b91803"
      },
      "outputs": [
        {
          "output_type": "stream",
          "name": "stdout",
          "text": [
            "RMSE: 2.9306\n"
          ]
        },
        {
          "output_type": "execute_result",
          "data": {
            "text/plain": [
              "2.9306185721359865"
            ]
          },
          "metadata": {},
          "execution_count": 22
        }
      ],
      "source": [
        "# obtener RMSE\n",
        "accuracy.rmse(test_pred, verbose=True)"
      ]
    },
    {
      "cell_type": "code",
      "execution_count": null,
      "id": "68751624",
      "metadata": {
        "colab": {
          "base_uri": "https://localhost:8080/"
        },
        "id": "68751624",
        "outputId": "b3f8d41c-8199-4d6f-8380-91e78a9dc171"
      },
      "outputs": [
        {
          "output_type": "execute_result",
          "data": {
            "text/plain": [
              "Prediction(uid=10, iid=43, r_ui=None, est=5, details={'actual_k': 0, 'was_impossible': False})"
            ]
          },
          "metadata": {},
          "execution_count": 23
        }
      ],
      "source": [
        "algo.predict(uid = 10, iid = 43)"
      ]
    },
    {
      "cell_type": "markdown",
      "source": [
        "## Bibliografía:\n",
        "\n",
        "S.O. (2021e). scipy.sparse.linalg.svds — SciPy v1.7.1 Manual. ScipyOrg. Recuperado 19 de enero de 2022, de https://docs.scipy.org/doc/scipy/reference/generated/scipy.sparse.linalg.svds.html\n",
        "\n",
        "O. (2019, 2 diciembre). Sistemas de recomendación | ¿Qué es el filtrado colaborativo? GraphEverywhere. Recuperado 19 de enero de 2022, de https://www.grapheverywhere.com/sistemas-de-recomendacion-que-es-el-filtrado-colaborativo/\n",
        "\n",
        "GeeksforGeeks. (2020, 19 agosto). How to Create a Sparse Matrix in Python. Recuperado 19 de enero de 2022, de https://www.geeksforgeeks.org/how-to-create-a-sparse-matrix-in-python/#:%7E:text=Python%E2%80%99s%20SciPy%20gives%20tools%20for%20creating%20sparse%20matrices,sparse%20matrix%20of%20c%20ompressed%20sparse%20column%20format.\n",
        "\n",
        "PyShark. (2021, 8 diciembre). Cosine Similarity Explained using Python - Machine Learning. Recuperado 19 de enero de 2022, de https://pyshark.com/cosine-similarity-explained-using-python/\n",
        "\n",
        "Samaniego, T. (2021, 11 febrero). Numpy en Python - Qué es, instalación y sintaxis. Mi Diario Python. Recuperado 19 de enero de 2022, de https://pythondiario.com/2019/05/numpy-en-python.html\n",
        "\n",
        "Ebrahim, M. (2019, 2 abril). Tutorial De Python Pandas: Iniciando Con DataFrames. Like Geeks. Recuperado 19 de enero de 2022, de https://likegeeks.com/es/tutorial-de-python-pandas/#:%7E:text=Pandas%20es%20una%20biblioteca%20de%20c%C3%B3digo%20abierto%20de,DataFrame%20donde%20almacena%20y%20juega%20con%20los%20datos.\n",
        "\n",
        "\n",
        "\n",
        "\n",
        "\n",
        "\n"
      ],
      "metadata": {
        "id": "VxKGXrD_z8tY"
      },
      "id": "VxKGXrD_z8tY"
    },
    {
      "cell_type": "code",
      "execution_count": null,
      "id": "4a5c4441",
      "metadata": {
        "id": "4a5c4441"
      },
      "outputs": [],
      "source": [
        ""
      ]
    }
  ],
  "metadata": {
    "kernelspec": {
      "display_name": "Python 3",
      "language": "python",
      "name": "python3"
    },
    "language_info": {
      "codemirror_mode": {
        "name": "ipython",
        "version": 3
      },
      "file_extension": ".py",
      "mimetype": "text/x-python",
      "name": "python",
      "nbconvert_exporter": "python",
      "pygments_lexer": "ipython3",
      "version": "3.6.10"
    },
    "colab": {
      "name": "Collaborative Filtering Systems (1).ipynb",
      "provenance": [],
      "collapsed_sections": []
    }
  },
  "nbformat": 4,
  "nbformat_minor": 5
}